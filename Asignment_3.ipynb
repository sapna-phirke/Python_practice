{
 "cells": [
  {
   "cell_type": "code",
   "execution_count": 17,
   "metadata": {},
   "outputs": [
    {
     "name": "stdout",
     "output_type": "stream",
     "text": [
      "10\n"
     ]
    }
   ],
   "source": [
    "\"\"\"1.1 Write a Python Program to implement your own myreduce() function which works exactly \n",
    "like Python's built-in function reduce() \"\"\"\n",
    "\n",
    "def do_sum_fun(x1, x2): \n",
    "    return x1 + x2\n",
    "\n",
    "def my_reduce(func, seq):\n",
    "    first = seq[0]\n",
    "    for i in seq[1:]:\n",
    "        first = func(first, i)\n",
    "    return first\n",
    "\n",
    "print(my_reduce(do_sum_fun, [1, 2, 3, 4]))"
   ]
  },
  {
   "cell_type": "code",
   "execution_count": 23,
   "metadata": {},
   "outputs": [
    {
     "data": {
      "text/plain": [
       "[2, 4, 6, 8]"
      ]
     },
     "execution_count": 23,
     "metadata": {},
     "output_type": "execute_result"
    }
   ],
   "source": [
    "\"\"\"1.2 Write a Python program to implement your own myfilter() function which works exactly  \n",
    "like Python's built-in function filter() \"\"\"\n",
    "\n",
    "def filter_func(lst):\n",
    "    even_num=[]\n",
    "    for i in lst:\n",
    "        if i%2==0:\n",
    "            even_num.append(i)\n",
    "    return even_num\n",
    "    \n",
    "    \n",
    "list1=[1,2,3,4,5,6,7,8]    \n",
    "filter_func(list1)    "
   ]
  },
  {
   "cell_type": "code",
   "execution_count": 65,
   "metadata": {},
   "outputs": [
    {
     "name": "stdout",
     "output_type": "stream",
     "text": [
      "['A', 'B', 'A', 'D', 'G', 'I', 'L', 'D']\n",
      " \n",
      "['x', 'y', 'z', 'xx', 'yy', 'zz', 'xxx', 'yyy', 'zzz', 'xxxx', 'yyyy', 'zzzz']\n",
      " \n",
      "['x', 'xx', 'xxx', 'xxxx', 'y', 'yy', 'yyy', 'yyyy', 'z', 'zz', 'zzz', 'zzzz']\n",
      " \n",
      "[[2], [3], [4], [3], [4], [5], [4], [5], [6]]\n",
      " \n",
      "[[2, 3, 4, 5], [3, 4, 5, 6], [4, 5, 6, 7], [5, 6, 7, 8]]\n",
      " \n",
      "[(1, 1), (2, 1), (3, 1), (1, 2), (2, 2), (3, 2), (1, 3), (2, 3), (3, 3)]\n"
     ]
    }
   ],
   "source": [
    "\"\"\"2. Implement List comprehensions to produce the following lists.  \n",
    "Write List comprehensions to produce the following Lists \n",
    "['A', 'C', 'A', 'D', 'G', 'I', ’L’, ‘ D’] \n",
    "['x', 'xx', 'xxx', 'xxxx', 'y', 'yy', 'yyy', 'yyyy', 'z', 'zz', 'zzz', 'zzzz']  \n",
    "['x', 'y', 'z', 'xx', 'yy', 'zz', 'xxx', 'yyy', 'zzz', 'xxxx', 'yyyy', 'zzzz']  \n",
    "[[2], [3], [4], [3], [4], [5], [4], [5], [6]]\n",
    "[[2, 3, 4, 5], [3, 4, 5, 6],[4, 5, 6, 7], [5, 6, 7, 8]] \n",
    "\n",
    "[(1, 1), (2, 1), (3, 1), (1, 2), (2, 2), (3, 2), (1, 3), (2, 3), (3, 3)]\n",
    "\n",
    "\"\"\"\n",
    "\n",
    "word1='abadgild'\n",
    "output1=[i.upper() for i in list(word1)]\n",
    "print(output1)\n",
    "print(\" \")\n",
    "word2='xyz'\n",
    "output2=[i*j for j in range(1,5) for i in list(word2)]\n",
    "print(output2)\n",
    "print(\" \")\n",
    "word3='xyz'\n",
    "output3=[i*j for j in list(word3) for i in range(1,5)]\n",
    "print(output3)\n",
    "print(\" \")\n",
    "\n",
    "word5=[2,3,4]\n",
    "output5=[[j+i] for j in range(0,3) for i in word5]\n",
    "print(output5)\n",
    "print(\" \")\n",
    "word6=[2,3,4,5]\n",
    "output6=[[i+j for j in word6] for i in range(0,4)]\n",
    "print(output6)\n",
    "print(\" \")\n",
    "word4='123'\n",
    "output4=[(i,j) for j in range(1,4) for i in range(1,4)]\n",
    "print(output4)"
   ]
  },
  {
   "cell_type": "code",
   "execution_count": 67,
   "metadata": {},
   "outputs": [
    {
     "data": {
      "text/plain": [
       "[(1, 1), (2, 1), (3, 1), (1, 2), (2, 2), (3, 2), (1, 3), (2, 3), (3, 3)]"
      ]
     },
     "execution_count": 67,
     "metadata": {},
     "output_type": "execute_result"
    }
   ],
   "source": [
    "\"\"\"\n",
    "l=[]\n",
    "\n",
    "for i in range(1,4):\n",
    "    for j in range(1,4):\n",
    "        l.append((j,i))\n",
    "l \"\"\"\n",
    "   "
   ]
  },
  {
   "cell_type": "code",
   "execution_count": null,
   "metadata": {},
   "outputs": [],
   "source": []
  }
 ],
 "metadata": {
  "kernelspec": {
   "display_name": "Python 3",
   "language": "python",
   "name": "python3"
  },
  "language_info": {
   "codemirror_mode": {
    "name": "ipython",
    "version": 3
   },
   "file_extension": ".py",
   "mimetype": "text/x-python",
   "name": "python",
   "nbconvert_exporter": "python",
   "pygments_lexer": "ipython3",
   "version": "3.7.6"
  }
 },
 "nbformat": 4,
 "nbformat_minor": 4
}
